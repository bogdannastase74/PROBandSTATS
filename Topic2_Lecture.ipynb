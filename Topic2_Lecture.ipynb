{
  "nbformat": 4,
  "nbformat_minor": 0,
  "metadata": {
    "anaconda-cloud": {},
    "celltoolbar": "Slideshow",
    "kernelspec": {
      "display_name": "Python 3",
      "language": "python",
      "name": "python3"
    },
    "language_info": {
      "codemirror_mode": {
        "name": "ipython",
        "version": 3
      },
      "file_extension": ".py",
      "mimetype": "text/x-python",
      "name": "python",
      "nbconvert_exporter": "python",
      "pygments_lexer": "ipython3",
      "version": "3.6.5"
    },
    "toc": {
      "base_numbering": 1,
      "nav_menu": {
        "height": "103px",
        "width": "252px"
      },
      "number_sections": true,
      "sideBar": true,
      "skip_h1_title": false,
      "title_cell": "Table of Contents",
      "title_sidebar": "Contents",
      "toc_cell": false,
      "toc_position": {},
      "toc_section_display": "block",
      "toc_window_display": false
    },
    "varInspector": {
      "cols": {
        "lenName": 16,
        "lenType": 16,
        "lenVar": 40
      },
      "kernels_config": {
        "python": {
          "delete_cmd_postfix": "",
          "delete_cmd_prefix": "del ",
          "library": "var_list.py",
          "varRefreshCmd": "print(var_dic_list())"
        },
        "r": {
          "delete_cmd_postfix": ") ",
          "delete_cmd_prefix": "rm(",
          "library": "var_list.r",
          "varRefreshCmd": "cat(var_dic_list()) "
        }
      },
      "types_to_exclude": [
        "module",
        "function",
        "builtin_function_or_method",
        "instance",
        "_Feature"
      ],
      "window_display": false
    },
    "colab": {
      "name": "Topic2_Lecture.ipynb",
      "provenance": [],
      "include_colab_link": true
    }
  },
  "cells": [
    {
      "cell_type": "markdown",
      "metadata": {
        "id": "view-in-github",
        "colab_type": "text"
      },
      "source": [
        "<a href=\"https://colab.research.google.com/github/bogdannastase74/PROBandSTATS/blob/master/Topic2_Lecture.ipynb\" target=\"_parent\"><img src=\"https://colab.research.google.com/assets/colab-badge.svg\" alt=\"Open In Colab\"/></a>"
      ]
    },
    {
      "cell_type": "markdown",
      "metadata": {
        "run_control": {
          "frozen": false,
          "read_only": false
        },
        "id": "e11vk6Vi_jXE",
        "colab_type": "text"
      },
      "source": [
        "## Sets in Python\n",
        "* Python has a data type called `set` \n",
        "* close to, but not the same as, mathematical sets.\n",
        "* A set is initialized using a list, or a tuple, containing elements."
      ]
    },
    {
      "cell_type": "code",
      "metadata": {
        "id": "JIWl_WVa_jXH",
        "colab_type": "code",
        "colab": {},
        "outputId": "9b4ae213-8994-4185-c6d4-e4a865327a25"
      },
      "source": [
        "# A set of numbers\n",
        "set([1,2,30])"
      ],
      "execution_count": 0,
      "outputs": [
        {
          "output_type": "execute_result",
          "data": {
            "text/plain": [
              "{1, 2, 30}"
            ]
          },
          "metadata": {
            "tags": []
          },
          "execution_count": 1
        }
      ]
    },
    {
      "cell_type": "code",
      "metadata": {
        "id": "doEAciG-_jXK",
        "colab_type": "code",
        "colab": {},
        "outputId": "d7a078de-3980-400e-fcab-c5cd9cf0bcb1"
      },
      "source": [
        "# order is not presenrved\n",
        "# When printing out a set, the elements will be listed \n",
        "# A set of strings\n",
        "set(['this','that','the other'])"
      ],
      "execution_count": 0,
      "outputs": [
        {
          "output_type": "execute_result",
          "data": {
            "text/plain": [
              "{'that', 'the other', 'this'}"
            ]
          },
          "metadata": {
            "tags": []
          },
          "execution_count": 2
        }
      ]
    },
    {
      "cell_type": "code",
      "metadata": {
        "id": "Vf7G75O8_jXM",
        "colab_type": "code",
        "colab": {},
        "outputId": "24c2e6eb-287e-4d20-decd-5b3426b67cdf"
      },
      "source": [
        "# each element can appear in a set only once.\n",
        "set([1,2,3,2])"
      ],
      "execution_count": 0,
      "outputs": [
        {
          "output_type": "execute_result",
          "data": {
            "text/plain": [
              "{1, 2, 3}"
            ]
          },
          "metadata": {
            "tags": []
          },
          "execution_count": 3
        }
      ]
    },
    {
      "cell_type": "markdown",
      "metadata": {
        "id": "A3lWE2Bd_jXO",
        "colab_type": "text"
      },
      "source": [
        "more commands creating and editing sets"
      ]
    },
    {
      "cell_type": "code",
      "metadata": {
        "id": "H6ZzaKC8_jXP",
        "colab_type": "code",
        "colab": {}
      },
      "source": [
        "# Create an empty set\n",
        "A = set()"
      ],
      "execution_count": 0,
      "outputs": []
    },
    {
      "cell_type": "code",
      "metadata": {
        "id": "j7eicYG0_jXQ",
        "colab_type": "code",
        "colab": {},
        "outputId": "8ba199b2-612a-48a3-baf2-362278bdee2a"
      },
      "source": [
        "# Add elements from a set\n",
        "A = set()\n",
        "A.update({0, 10})\n",
        "print(A)"
      ],
      "execution_count": 0,
      "outputs": [
        {
          "output_type": "stream",
          "text": [
            "{0, 10}\n"
          ],
          "name": "stdout"
        }
      ]
    },
    {
      "cell_type": "code",
      "metadata": {
        "id": "_NTUpUfa_jXS",
        "colab_type": "code",
        "colab": {},
        "outputId": "4304e130-5b67-4534-8e72-0750640e4d8c"
      },
      "source": [
        "# Delete an element from a set\n",
        "A = {1, 2, 3}\n",
        "A.remove(2)       # Works only if the element to be deleted is present in the set\n",
        "A.discard(4)      # Works even if the element to be deleted is not present in the set\n",
        "A.discard(3)      \n",
        "print(A)"
      ],
      "execution_count": 0,
      "outputs": [
        {
          "output_type": "stream",
          "text": [
            "{1}\n"
          ],
          "name": "stdout"
        }
      ]
    },
    {
      "cell_type": "code",
      "metadata": {
        "id": "qquW7NUK_jXU",
        "colab_type": "code",
        "colab": {},
        "outputId": "f424552b-8f95-4aed-848d-07df852acab2"
      },
      "source": [
        "# Remove a random element from a set\n",
        "A = {1, 2, 3}\n",
        "A.pop()\n",
        "print(A)"
      ],
      "execution_count": 0,
      "outputs": [
        {
          "output_type": "stream",
          "text": [
            "{2, 3}\n"
          ],
          "name": "stdout"
        }
      ]
    },
    {
      "cell_type": "code",
      "metadata": {
        "id": "m2lYevYc_jXW",
        "colab_type": "code",
        "colab": {},
        "outputId": "dd323aae-01fb-4144-f5b9-3134549da1ff"
      },
      "source": [
        "A = {-1,2,1, 3}\n",
        "A.pop()\n",
        "print(A)"
      ],
      "execution_count": 0,
      "outputs": [
        {
          "output_type": "stream",
          "text": [
            "{2, 3, -1}\n"
          ],
          "name": "stdout"
        }
      ]
    },
    {
      "cell_type": "code",
      "metadata": {
        "id": "aKQZpPW3_jXY",
        "colab_type": "code",
        "colab": {},
        "outputId": "0bff8fae-c043-4912-ec06-28bfe06104a5"
      },
      "source": [
        "# Get a sorted list from a set\n",
        "A = {1, 10, 4, -9, 7, 8, -6, 3, 2}\n",
        "print(sorted(A))"
      ],
      "execution_count": 0,
      "outputs": [
        {
          "output_type": "stream",
          "text": [
            "[-9, -6, 1, 2, 3, 4, 7, 8, 10]\n"
          ],
          "name": "stdout"
        }
      ]
    },
    {
      "cell_type": "markdown",
      "metadata": {
        "id": "2iy0whTG_jXa",
        "colab_type": "text"
      },
      "source": [
        "## Elements of sets must be immutable\n",
        "While in mathematics anything can be an element of a set, in Python an element has to be\n",
        "**immutable** and **hashable** i.e. an object with a fixed value. Immutable objects include numbers, strings and tuples. "
      ]
    },
    {
      "cell_type": "code",
      "metadata": {
        "id": "gZ5X-daW_jXa",
        "colab_type": "code",
        "colab": {},
        "outputId": "70217175-28e4-49a5-c0f8-5da1495db14b"
      },
      "source": [
        "#elements can be tuples\n",
        "set([(1,2),(1,3),(3,1)])"
      ],
      "execution_count": 0,
      "outputs": [
        {
          "output_type": "execute_result",
          "data": {
            "text/plain": [
              "{(1, 2), (1, 3), (3, 1)}"
            ]
          },
          "metadata": {
            "tags": []
          },
          "execution_count": 13
        }
      ]
    },
    {
      "cell_type": "code",
      "metadata": {
        "id": "c_MuDXr8_jXc",
        "colab_type": "code",
        "colab": {},
        "outputId": "d4cb0337-5883-41a6-b27d-c4679fc40353"
      },
      "source": [
        "# but cannot be lists\n",
        "set([[1,2],[1,3],[3,1]])"
      ],
      "execution_count": 0,
      "outputs": [
        {
          "output_type": "error",
          "ename": "TypeError",
          "evalue": "unhashable type: 'list'",
          "traceback": [
            "\u001b[0;31m---------------------------------------------------------------------------\u001b[0m",
            "\u001b[0;31mTypeError\u001b[0m                                 Traceback (most recent call last)",
            "\u001b[0;32m<ipython-input-14-4f5951c01ff9>\u001b[0m in \u001b[0;36m<module>\u001b[0;34m()\u001b[0m\n\u001b[1;32m      1\u001b[0m \u001b[0;31m# but cannot be lists\u001b[0m\u001b[0;34m\u001b[0m\u001b[0;34m\u001b[0m\u001b[0m\n\u001b[0;32m----> 2\u001b[0;31m \u001b[0mset\u001b[0m\u001b[0;34m(\u001b[0m\u001b[0;34m[\u001b[0m\u001b[0;34m[\u001b[0m\u001b[0;36m1\u001b[0m\u001b[0;34m,\u001b[0m\u001b[0;36m2\u001b[0m\u001b[0;34m]\u001b[0m\u001b[0;34m,\u001b[0m\u001b[0;34m[\u001b[0m\u001b[0;36m1\u001b[0m\u001b[0;34m,\u001b[0m\u001b[0;36m3\u001b[0m\u001b[0;34m]\u001b[0m\u001b[0;34m,\u001b[0m\u001b[0;34m[\u001b[0m\u001b[0;36m3\u001b[0m\u001b[0;34m,\u001b[0m\u001b[0;36m1\u001b[0m\u001b[0;34m]\u001b[0m\u001b[0;34m]\u001b[0m\u001b[0;34m)\u001b[0m\u001b[0;34m\u001b[0m\u001b[0m\n\u001b[0m",
            "\u001b[0;31mTypeError\u001b[0m: unhashable type: 'list'"
          ]
        }
      ]
    },
    {
      "cell_type": "markdown",
      "metadata": {
        "id": "ks5XEBW7_jXe",
        "colab_type": "text"
      },
      "source": [
        "## Operations on sets\n",
        "Python defines many operations on sets. Most operations come in two forms: as a method, and as an overload of mathematical operators.\n",
        "\n",
        "\n",
        "For a full description of operations on sets for Python 3.6 look [here](https://docs.python.org/3.6/tutorial/datastructures.html#sets)"
      ]
    },
    {
      "cell_type": "code",
      "metadata": {
        "id": "B7SSmzEF_jXe",
        "colab_type": "code",
        "colab": {},
        "outputId": "382f0472-aa72-4331-a4d7-968cca19b9e8"
      },
      "source": [
        "A=set(range(0,3)) # all integers between 0 and 2\n",
        "B=set(range(0,6,2)) # even integers between 0 and 2\n",
        "C=set(range(0,6))   # all integers between 0 and 5\n",
        "'A=',A,'B=',B,'C=',C"
      ],
      "execution_count": 0,
      "outputs": [
        {
          "output_type": "execute_result",
          "data": {
            "text/plain": [
              "('A=', {0, 1, 2}, 'B=', {0, 2, 4}, 'C=', {0, 1, 2, 3, 4, 5})"
            ]
          },
          "metadata": {
            "tags": []
          },
          "execution_count": 15
        }
      ]
    },
    {
      "cell_type": "code",
      "metadata": {
        "id": "JF2l_Ek2_jXh",
        "colab_type": "code",
        "colab": {},
        "outputId": "fb549c3a-39e8-4a19-df33-2e4c4c3770f4"
      },
      "source": [
        "## Checking if an element is in a set:\n",
        "1 in A, 1 in B, 3 not in B"
      ],
      "execution_count": 0,
      "outputs": [
        {
          "output_type": "execute_result",
          "data": {
            "text/plain": [
              "(True, False, True)"
            ]
          },
          "metadata": {
            "tags": []
          },
          "execution_count": 16
        }
      ]
    },
    {
      "cell_type": "code",
      "metadata": {
        "id": "4kN5lPjt_jXj",
        "colab_type": "code",
        "colab": {},
        "outputId": "2b192663-72b5-4f19-c795-14380222f411"
      },
      "source": [
        "A.issubset(C), A<=C"
      ],
      "execution_count": 0,
      "outputs": [
        {
          "output_type": "execute_result",
          "data": {
            "text/plain": [
              "(True, True)"
            ]
          },
          "metadata": {
            "tags": []
          },
          "execution_count": 17
        }
      ]
    },
    {
      "cell_type": "code",
      "metadata": {
        "id": "LCvUYPeK_jXl",
        "colab_type": "code",
        "colab": {},
        "outputId": "b6dc08f3-288c-4a75-ca2b-c005a7485045"
      },
      "source": [
        "C.issuperset(B),C>=B"
      ],
      "execution_count": 0,
      "outputs": [
        {
          "output_type": "execute_result",
          "data": {
            "text/plain": [
              "(True, True)"
            ]
          },
          "metadata": {
            "tags": []
          },
          "execution_count": 18
        }
      ]
    },
    {
      "cell_type": "code",
      "metadata": {
        "id": "B8q_09zX_jXn",
        "colab_type": "code",
        "colab": {},
        "outputId": "f26912bd-0699-4be3-af80-5ef4c500d649"
      },
      "source": [
        "A.union(B),A | B"
      ],
      "execution_count": 0,
      "outputs": [
        {
          "output_type": "execute_result",
          "data": {
            "text/plain": [
              "({0, 1, 2, 4}, {0, 1, 2, 4})"
            ]
          },
          "metadata": {
            "tags": []
          },
          "execution_count": 19
        }
      ]
    },
    {
      "cell_type": "code",
      "metadata": {
        "id": "gyjTTm0R_jXo",
        "colab_type": "code",
        "colab": {},
        "outputId": "90a9e2e3-baf8-4c62-fe1c-5cf65df9e386"
      },
      "source": [
        "A.intersection(B), A&B"
      ],
      "execution_count": 0,
      "outputs": [
        {
          "output_type": "execute_result",
          "data": {
            "text/plain": [
              "({0, 2}, {0, 2})"
            ]
          },
          "metadata": {
            "tags": []
          },
          "execution_count": 20
        }
      ]
    },
    {
      "cell_type": "code",
      "metadata": {
        "id": "QN6r2C7m_jXq",
        "colab_type": "code",
        "colab": {},
        "outputId": "19cd4e92-c38d-4665-9dc7-8984ddcce599"
      },
      "source": [
        "# The difference between A and B contains all elements that are in A but not in B\n",
        "A.difference(B), A-B"
      ],
      "execution_count": 0,
      "outputs": [
        {
          "output_type": "execute_result",
          "data": {
            "text/plain": [
              "({1}, {1})"
            ]
          },
          "metadata": {
            "tags": []
          },
          "execution_count": 21
        }
      ]
    },
    {
      "cell_type": "code",
      "metadata": {
        "id": "P6caY9-c_jXs",
        "colab_type": "code",
        "colab": {},
        "outputId": "b8387249-9ee9-48c1-d061-81e5ab685083"
      },
      "source": [
        "# The symetric difference contains all elements that are in one of the two sets, but not in both\n",
        "A.symmetric_difference(B), A^B"
      ],
      "execution_count": 0,
      "outputs": [
        {
          "output_type": "execute_result",
          "data": {
            "text/plain": [
              "({1, 4}, {1, 4})"
            ]
          },
          "metadata": {
            "tags": []
          },
          "execution_count": 22
        }
      ]
    },
    {
      "cell_type": "markdown",
      "metadata": {
        "id": "0VogyR6d_jXw",
        "colab_type": "text"
      },
      "source": [
        "### Finding the primes\n",
        "The following program finds the prime numbers between $2$ and $k$."
      ]
    },
    {
      "cell_type": "markdown",
      "metadata": {
        "id": "T08DcXjb_jXx",
        "colab_type": "text"
      },
      "source": [
        "It stars with a set of all of the integers between `2` and `k`, which is called `I`.\n",
        "\n",
        "It then removes all multiples of `2`, all multiples of `3`, all multiples of `4` etc.  \n",
        "Ending with $\\sqrt{k}$.\n",
        "\n",
        "It does so by using the set substraction operation `A-=B`"
      ]
    },
    {
      "cell_type": "markdown",
      "metadata": {
        "id": "yqRnh0KQ_jXx",
        "colab_type": "text"
      },
      "source": [
        "It is enough to multiples of numbers up to $\\sqrt{k}$ because any non-prime number has at least one factor that is smaller that $\\sqrt{k}$. \n",
        "\n",
        "* Prove by contradiction.\n"
      ]
    },
    {
      "cell_type": "code",
      "metadata": {
        "id": "gzXj5QLh_jXy",
        "colab_type": "code",
        "colab": {},
        "outputId": "ea1d66f0-46c1-4ed3-9169-d4873a0d78e2"
      },
      "source": [
        "from math import sqrt\n",
        "k=100\n",
        "I=set(range(2,k))\n",
        "print('start, remaining=%d'%len(I))\n",
        "\n",
        "for j in range(2,int(sqrt(k))+1):\n",
        "    I-=set(range(2*j,k,j))\n",
        "    print('iteration=%d, remaining=%d'%(j,len(I)))"
      ],
      "execution_count": 0,
      "outputs": [
        {
          "output_type": "stream",
          "text": [
            "start, remaining=98\n",
            "iteration=2, remaining=50\n",
            "iteration=3, remaining=34\n",
            "iteration=4, remaining=34\n",
            "iteration=5, remaining=28\n",
            "iteration=6, remaining=28\n",
            "iteration=7, remaining=25\n",
            "iteration=8, remaining=25\n",
            "iteration=9, remaining=25\n",
            "iteration=10, remaining=25\n"
          ],
          "name": "stdout"
        }
      ]
    },
    {
      "cell_type": "code",
      "metadata": {
        "id": "7hkbdCWx_jX0",
        "colab_type": "code",
        "colab": {},
        "outputId": "1e2d79c5-35ec-433d-d603-d54170942905"
      },
      "source": [
        "','.join([str(i) for i in I])"
      ],
      "execution_count": 0,
      "outputs": [
        {
          "output_type": "execute_result",
          "data": {
            "text/plain": [
              "'2,3,5,7,11,13,17,19,23,29,31,37,41,43,47,53,59,61,67,71,73,79,83,89,97'"
            ]
          },
          "metadata": {
            "tags": []
          },
          "execution_count": 24
        }
      ]
    },
    {
      "cell_type": "markdown",
      "metadata": {
        "id": "ir3rX7H6_jX1",
        "colab_type": "text"
      },
      "source": [
        "### Computing the cartesian Product\n"
      ]
    },
    {
      "cell_type": "code",
      "metadata": {
        "id": "LwgXodJp_jX1",
        "colab_type": "code",
        "colab": {}
      },
      "source": [
        "A=set(['a','b','c'])\n",
        "B=set([1,2])"
      ],
      "execution_count": 0,
      "outputs": []
    },
    {
      "cell_type": "code",
      "metadata": {
        "id": "_IlPpe7n_jX3",
        "colab_type": "code",
        "colab": {},
        "outputId": "d11aa693-6805-433d-94e2-eb4e6d99cd66"
      },
      "source": [
        "C=set()\n",
        "for x in A:\n",
        "    for y in B:\n",
        "        C.add((x,y))\n",
        "C"
      ],
      "execution_count": 0,
      "outputs": [
        {
          "output_type": "execute_result",
          "data": {
            "text/plain": [
              "{('a', 1), ('a', 2), ('b', 1), ('b', 2), ('c', 1), ('c', 2)}"
            ]
          },
          "metadata": {
            "tags": []
          },
          "execution_count": 26
        }
      ]
    }
  ]
}